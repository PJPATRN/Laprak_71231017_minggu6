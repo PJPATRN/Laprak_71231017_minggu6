{
 "cells": [
  {
   "cell_type": "markdown",
   "metadata": {},
   "source": [
    "Contoh Percabangan kompleks 1"
   ]
  },
  {
   "cell_type": "code",
   "execution_count": null,
   "metadata": {},
   "outputs": [],
   "source": [
    "import random                                               # ini adalah modul bawaan yang disediakan oleh python\n",
    "kondisi1 = random.randint(1,100)                            # ini untuk mengambil nomor acak dari komputer\n",
    "kondisi2 = []                                               # ini adalah variabel untuk menampung angka sihir\n",
    "print(\"PERMAINAN ANGKA SIHIR\")\n",
    "print(f\"Jika lebih besar dari angka {kondisi1} maka itu adalah angka spesial\")\n",
    "print(f\"Jika lebih besar dari {kondisi1} dan merupakan angka puluhan, maka itu adalah angka sihir\")\n",
    "print(\"Selain itu, merupakan angka biasa saja\")\n",
    "for i in range(1,100):\n",
    "    if i % 10 == 0 or i % 2 == 1:                           # ini adalah contoh perulangan kompleks untuk mencari angka sihir (puluhan dan ganjil)\n",
    "        kondisi2.append(i)                                  # metode untuk menambahkan hasil ke variabel\n",
    "input1 = int(input(\"Masukkan tebakkan anda : \"))            # inputan user\n",
    "if kondisi1 < input1:                                       # percabangan kompleks pertama\n",
    "    print(\"Angka anda adalah angka spesial\")                # situasi kondisi pertama jika kondisi benar\n",
    "    if input1 in kondisi2:                                  # kondisi ke dua jika kondisi pertama benar\n",
    "        print(f\"Angka {input1} adalah angka sihir\")         # situasi ke dua jika kondisi pertama dan ke dua benar\n",
    "else:                                                       # Jika kondisi pertama salah\n",
    "    print(\"Angka anda adalah angka biasa\")                  # situasi jika kondisi pertama salah"
   ]
  },
  {
   "cell_type": "markdown",
   "metadata": {},
   "source": [
    "Contoh percabangan kompleks 2"
   ]
  },
  {
   "cell_type": "code",
   "execution_count": 5,
   "metadata": {},
   "outputs": [
    {
     "ename": "NameError",
     "evalue": "name 'hasil' is not defined",
     "output_type": "error",
     "traceback": [
      "\u001b[1;31m---------------------------------------------------------------------------\u001b[0m",
      "\u001b[1;31mNameError\u001b[0m                                 Traceback (most recent call last)",
      "Cell \u001b[1;32mIn[5], line 12\u001b[0m\n\u001b[0;32m      9\u001b[0m     \u001b[38;5;28;01mreturn\u001b[39;00m hasil\n\u001b[0;32m     11\u001b[0m biner\u001b[38;5;241m=\u001b[39m\u001b[38;5;28mint\u001b[39m(\u001b[38;5;28minput\u001b[39m(\u001b[38;5;124m\"\u001b[39m\u001b[38;5;124mMasukkan sebuah bilangan desimal :\u001b[39m\u001b[38;5;124m\"\u001b[39m))\n\u001b[1;32m---> 12\u001b[0m \u001b[38;5;28mprint\u001b[39m(\u001b[43mhasil\u001b[49m)\n",
      "\u001b[1;31mNameError\u001b[0m: name 'hasil' is not defined"
     ]
    }
   ],
   "source": [
    "def konfersi_biner_desimal(biner):\n",
    "    global hasil\n",
    "    hasil = []\n",
    "    for bilangan in range(1,biner+1):\n",
    "        if bilangan % 2 == 0:\n",
    "            return hasil.append(0)\n",
    "        if bilangan % 2 == 1:\n",
    "            return hasil.append(1)\n",
    "    return hasil\n",
    "\n",
    "biner=int(input(\"Masukkan sebuah bilangan desimal :\"))\n",
    "print(hasil)"
   ]
  },
  {
   "cell_type": "markdown",
   "metadata": {},
   "source": [
    "Latihan 6.1"
   ]
  },
  {
   "cell_type": "code",
   "execution_count": null,
   "metadata": {},
   "outputs": [],
   "source": [
    "def bilangan_prima(n):\n",
    "    bilangan_prima = []\n",
    "    for bilangan in range(2,n):\n",
    "        prima = True\n",
    "        for i in range(2, bilangan):\n",
    "            if bilangan % i == 0:\n",
    "                prima = False\n",
    "                break\n",
    "        if prima == True:\n",
    "            bilangan_prima.append(bilangan)\n",
    "    return bilangan_prima.pop()\n",
    "\n",
    "n = int(input(\"Masukkan sebuah bilangan : \"))\n",
    "prima = bilangan_prima(n)\n",
    "print(f\"Bilangan prima terdekat di bawah {n} adalah {prima}\")"
   ]
  },
  {
   "cell_type": "markdown",
   "metadata": {},
   "source": [
    "Latihan 6.2"
   ]
  },
  {
   "cell_type": "code",
   "execution_count": null,
   "metadata": {},
   "outputs": [],
   "source": [
    "def factorial(num):\n",
    "    result = 1\n",
    "    for i in range(1, num + 1):\n",
    "        result *= i\n",
    "    return result\n",
    "\n",
    "def print_series(n):\n",
    "    for i in range(n, 0, -1):\n",
    "        print(factorial(i), end=\" \")\n",
    "        for j in range(i, 0, -1):\n",
    "            print(j, end=\" \")\n",
    "        print()\n",
    "\n",
    "n = int(input(\"Masukkan nilai n: \"))\n",
    "print_series(n)"
   ]
  },
  {
   "cell_type": "markdown",
   "metadata": {},
   "source": [
    "Latihan 6.3"
   ]
  },
  {
   "cell_type": "code",
   "execution_count": null,
   "metadata": {},
   "outputs": [],
   "source": [
    "tinggi = int(input(\"Masukkan tinggi: \"))\n",
    "lebar = int(input(\"Masukkan lebar: \"))\n",
    "\n",
    "angka = 0\n",
    "for i in range(1, tinggi+1):\n",
    "    for i in range(1, lebar+1):\n",
    "        angka += 1\n",
    "        print(angka, \"\", end=\"\")\n",
    "    print()"
   ]
  }
 ],
 "metadata": {
  "kernelspec": {
   "display_name": "Python 3",
   "language": "python",
   "name": "python3"
  },
  "language_info": {
   "codemirror_mode": {
    "name": "ipython",
    "version": 3
   },
   "file_extension": ".py",
   "mimetype": "text/x-python",
   "name": "python",
   "nbconvert_exporter": "python",
   "pygments_lexer": "ipython3",
   "version": "3.11.5"
  }
 },
 "nbformat": 4,
 "nbformat_minor": 2
}
